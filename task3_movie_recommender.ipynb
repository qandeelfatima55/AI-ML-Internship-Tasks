{
  "cells": [
    {
      "cell_type": "markdown",
      "metadata": {
        "id": "view-in-github",
        "colab_type": "text"
      },
      "source": [
        "<a href=\"https://colab.research.google.com/github/qandeelfatima55/AI-ML-Internship-Tasks/blob/main/task3_movie_recommender.ipynb\" target=\"_parent\"><img src=\"https://colab.research.google.com/assets/colab-badge.svg\" alt=\"Open In Colab\"/></a>"
      ]
    },
    {
      "cell_type": "markdown",
      "id": "b6279db9",
      "metadata": {
        "id": "b6279db9"
      },
      "source": [
        "# Task 3: Movie Recommendation System (Content-Based)\n",
        "In this notebook, we will build a **content-based** recommender using the MovieLens dataset.\n",
        "\n",
        "We will:\n",
        "1. Load the MovieLens data (`movies.csv` and optionally `ratings.csv`).\n",
        "2. Clean and prepare features (mainly **genres**; MovieLens uses a `|`-separated genre list).\n",
        "3. Create a text representation with **TF‑IDF**.\n",
        "4. Compute **cosine similarity** between movies.\n",
        "5. Build a function `recommend('Movie Title', top_n=5)` to get similar movies.\n",
        "\n",
        "> Note: MovieLens *small* dataset is enough. On Colab, you can either use Kaggle to download it or simply upload the two CSVs manually when prompted."
      ]
    },
    {
      "cell_type": "markdown",
      "id": "be56a11e",
      "metadata": {
        "id": "be56a11e"
      },
      "source": [
        "## 0) Setup & Imports"
      ]
    },
    {
      "cell_type": "code",
      "execution_count": null,
      "id": "e0878753",
      "metadata": {
        "id": "e0878753"
      },
      "outputs": [],
      "source": [
        "\n",
        "import pandas as pd\n",
        "import numpy as np\n",
        "from sklearn.feature_extraction.text import TfidfVectorizer\n",
        "from sklearn.metrics.pairwise import cosine_similarity\n",
        "from difflib import get_close_matches\n",
        "\n",
        "# Display options for easier reading\n",
        "pd.set_option('display.max_colwidth', 120)\n"
      ]
    },
    {
      "cell_type": "markdown",
      "id": "7d982569",
      "metadata": {
        "id": "7d982569"
      },
      "source": [
        "## 1) Load Data\n",
        "### Option A (Recommended on phone): Upload files manually\n",
        "On Colab, run the next cell, then pick `movies.csv` (and optionally `ratings.csv`).\n",
        "\n",
        "You can get these from the MovieLens small dataset—after unzipping, the files are inside the folder."
      ]
    },
    {
      "cell_type": "markdown",
      "id": "1c170ba1",
      "metadata": {
        "id": "1c170ba1"
      },
      "source": [
        "### Option B: If files already exist in the environment\n",
        "If your files are already present (e.g., in the same folder), just make sure the filenames below are correct."
      ]
    },
    {
      "cell_type": "code",
      "execution_count": null,
      "id": "b108c12d",
      "metadata": {
        "id": "b108c12d"
      },
      "outputs": [],
      "source": [
        "\n",
        "# Change paths if needed\n",
        "movies_path = 'movies.csv'      # required\n",
        "ratings_path = 'ratings.csv'    # optional (only used to compute a simple popularity score)\n",
        "\n",
        "movies = pd.read_csv(movies_path)\n",
        "print(\"Movies shape:\", movies.shape)\n",
        "movies.head()\n"
      ]
    },
    {
      "cell_type": "markdown",
      "id": "9076ea44",
      "metadata": {
        "id": "9076ea44"
      },
      "source": [
        "## 2) Basic Cleaning\n",
        "MovieLens genres look like: `'Adventure|Animation|Children|Comedy|Fantasy'`. We will convert the `|` to spaces so TF‑IDF can treat them as tokens.\n",
        "We'll also:\n",
        "- lower-case the text\n",
        "- fill missing values\n",
        "- keep a clean copy of titles for display"
      ]
    },
    {
      "cell_type": "code",
      "execution_count": null,
      "id": "b2e975b6",
      "metadata": {
        "id": "b2e975b6"
      },
      "outputs": [],
      "source": [
        "\n",
        "# Keep original title for display\n",
        "movies['title_display'] = movies['title'].astype(str)\n",
        "\n",
        "# Clean genres text\n",
        "movies['genres'] = movies['genres'].fillna('')\n",
        "movies['genres_clean'] = (movies['genres']\n",
        "                          .str.replace('|', ' ', regex=False)\n",
        "                          .str.replace('-', ' ', regex=False)\n",
        "                          .str.lower())\n",
        "\n",
        "import re\n",
        "def strip_year(t):\n",
        "    m = re.search(r'\\s*\\((\\d{4})\\)$', str(t))\n",
        "    return re.sub(r'\\s*\\(\\d{4}\\)$', '', str(t)).strip()\n",
        "\n",
        "movies['title_clean'] = movies['title_display'].apply(strip_year).str.lower()\n",
        "movies[['title_display','genres','genres_clean']].head()"
      ]
    },
    {
      "cell_type": "markdown",
      "id": "b84fdf41",
      "metadata": {
        "id": "b84fdf41"
      },
      "source": [
        "## 3) Build TF‑IDF Features from Genres\n",
        "This turns the genre words into numeric vectors so we can measure similarity."
      ]
    },
    {
      "cell_type": "code",
      "execution_count": null,
      "id": "4e0dce2e",
      "metadata": {
        "id": "4e0dce2e"
      },
      "outputs": [],
      "source": [
        "\n",
        "tfidf = TfidfVectorizer(token_pattern=r'\\b\\w+\\b')\n",
        "tfidf_matrix = tfidf.fit_transform(movies['genres_clean'])\n",
        "tfidf_matrix.shape\n"
      ]
    },
    {
      "cell_type": "markdown",
      "id": "5951686e",
      "metadata": {
        "id": "5951686e"
      },
      "source": [
        "## 4) Compute Cosine Similarity\n",
        "Cosine similarity gives us *how similar* two movies are based on their genre vectors."
      ]
    },
    {
      "cell_type": "code",
      "execution_count": null,
      "id": "a8564ddc",
      "metadata": {
        "id": "a8564ddc"
      },
      "outputs": [],
      "source": [
        "\n",
        "cosine_sim = cosine_similarity(tfidf_matrix)\n",
        "cosine_sim.shape\n"
      ]
    },
    {
      "cell_type": "markdown",
      "id": "8709d74e",
      "metadata": {
        "id": "8709d74e"
      },
      "source": [
        "## 5) (Optional) Add a Simple Popularity Signal\n",
        "If `ratings.csv` is available, we can compute a very rough popularity score to break ties.\n",
        "This step is optional—you can skip if you didn't upload ratings."
      ]
    },
    {
      "cell_type": "code",
      "execution_count": null,
      "id": "45d5aeb8",
      "metadata": {
        "id": "45d5aeb8"
      },
      "outputs": [],
      "source": [
        "\n",
        "try:\n",
        "    ratings = pd.read_csv(ratings_path)\n",
        "    pop = ratings.groupby('movieId').agg(rating_count=('rating','count'),\n",
        "                                         rating_mean=('rating','mean')).reset_index()\n",
        "    movies = movies.merge(pop, on='movieId', how='left')\n",
        "    movies['rating_count'] = movies['rating_count'].fillna(0)\n",
        "    movies['rating_mean']  = movies['rating_mean'].fillna(movies['rating_mean'].mean())\n",
        "except Exception as e:\n",
        "    print(\"ratings.csv not found or unreadable — proceeding without popularity features.\")\n",
        "    movies['rating_count'] = 0\n",
        "    movies['rating_mean']  = 0.0\n"
      ]
    },
    {
      "cell_type": "markdown",
      "id": "5fd24ccb",
      "metadata": {
        "id": "5fd24ccb"
      },
      "source": [
        "## 6) Build the Recommender Function\n",
        "We will:\n",
        "- find the requested movie via exact or fuzzy matching,\n",
        "- rank other movies by cosine similarity,\n",
        "- return the top `n` titles (optionally preferring more popular ones)."
      ]
    },
    {
      "cell_type": "code",
      "execution_count": null,
      "id": "f1f0a4b0",
      "metadata": {
        "id": "f1f0a4b0"
      },
      "outputs": [],
      "source": [
        "\n",
        "# Map movie indices for quick lookup\n",
        "title_to_index = {t:i for i,t in enumerate(movies['title_clean'])}\n",
        "\n",
        "def find_movie_index(query):\n",
        "    \"\"\"Return the index in 'movies' for a given title query (case-insensitive).\n",
        "    Uses exact match first, then fuzzy match (closest 1).\"\"\"\n",
        "    q = strip_year(query).lower().strip()\n",
        "    if q in title_to_index:\n",
        "        return title_to_index[q]\n",
        "    # Fuzzy: try to find the closest title_clean\n",
        "    candidates = get_close_matches(q, movies['title_clean'].tolist(), n=1, cutoff=0.6)\n",
        "    if candidates:\n",
        "        return title_to_index[candidates[0]]\n",
        "    return None\n",
        "\n",
        "def recommend(title, top_n=5, use_popularity=True):\n",
        "    idx = find_movie_index(title)\n",
        "    if idx is None:\n",
        "        return pd.DataFrame({'message': [f\"Could not find a close match for '{title}'. Try another title.\"]})\n",
        "\n",
        "    # Get similarity scores for the given index\n",
        "    sim_scores = list(enumerate(cosine_sim[idx]))\n",
        "    # Exclude the movie itself\n",
        "    sim_scores = [(i,s) for i,s in sim_scores if i != idx]\n",
        "    # Sort by similarity score (descending)\n",
        "    sim_scores.sort(key=lambda x: x[1], reverse=True)\n",
        "\n",
        "    # Take a pool larger than top_n to allow re-sorting by popularity if available\n",
        "    pool_size = max(30, top_n*5)\n",
        "    top_indices = [i for i,_ in sim_scores[:pool_size]]\n",
        "    candidates = movies.iloc[top_indices].copy()\n",
        "    candidates['similarity'] = [s for _,s in sim_scores[:pool_size]]\n",
        "\n",
        "    if use_popularity and 'rating_count' in candidates.columns:\n",
        "        # Sort by similarity first, then by rating_count to prefer well-rated popular films\n",
        "        candidates = candidates.sort_values(['similarity','rating_count'], ascending=[False, False])\n",
        "    else:\n",
        "        candidates = candidates.sort_values('similarity', ascending=False)\n",
        "\n",
        "    return candidates[['title_display','genres','similarity','rating_count','rating_mean']].head(top_n).reset_index(drop=True)\n"
      ]
    },
    {
      "cell_type": "markdown",
      "id": "c4a50347",
      "metadata": {
        "id": "c4a50347"
      },
      "source": [
        "## 7) Try It!\n",
        "Run the cell below and type a movie you know exists in MovieLens (e.g., `Toy Story (1995)`, `Jumanji (1995)`, `Heat (1995)`)."
      ]
    },
    {
      "cell_type": "code",
      "execution_count": null,
      "id": "f2d8f901",
      "metadata": {
        "id": "f2d8f901"
      },
      "outputs": [],
      "source": [
        "\n",
        "# Example usage:\n",
        "result = recommend('Toy Story (1995)', top_n=5)\n",
        "result"
      ]
    }
  ],
  "metadata": {
    "colab": {
      "provenance": [],
      "include_colab_link": true
    },
    "language_info": {
      "name": "python"
    },
    "kernelspec": {
      "name": "python3",
      "display_name": "Python 3"
    }
  },
  "nbformat": 4,
  "nbformat_minor": 5
}